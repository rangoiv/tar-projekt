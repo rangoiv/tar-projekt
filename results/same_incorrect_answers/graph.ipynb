{
 "cells": [
  {
   "cell_type": "code",
   "execution_count": 1,
   "metadata": {},
   "outputs": [],
   "source": [
    "import os\n",
    "from pprint import pprint\n",
    "import json"
   ]
  },
  {
   "cell_type": "code",
   "execution_count": 2,
   "metadata": {},
   "outputs": [],
   "source": [
    "def contain_string(string):\n",
    "    def f(x):\n",
    "        return string in x\n",
    "    return f"
   ]
  },
  {
   "cell_type": "code",
   "execution_count": 3,
   "metadata": {},
   "outputs": [],
   "source": [
    "def get_files_in_dir(directory_path):\n",
    "    files_list = []\n",
    "    for root, dirs, files in os.walk(directory_path):\n",
    "        for file in files:\n",
    "            file_path = os.path.join(root, file)\n",
    "            files_list.append(file_path)\n",
    "    return files_list"
   ]
  },
  {
   "cell_type": "code",
   "execution_count": 4,
   "metadata": {},
   "outputs": [],
   "source": [
    "def load_file_results(file_path, accuracy_type=None):\n",
    "    if accuracy_type is None:\n",
    "        accuracy_type = 'over_all accuracy'\n",
    "    with open(file_path, 'r') as file:\n",
    "        content = file.read()\n",
    "    \n",
    "    # Find the start of the JSON content\n",
    "    json_start = content.find(\"{\")\n",
    "    \n",
    "    if json_start == -1:\n",
    "        raise ValueError(\"No JSON content found in file.\")\n",
    "    \n",
    "    # Extract and parse the JSON content\n",
    "    json_content = content[json_start:]\n",
    "    data = json.loads(json_content)\n",
    "    \n",
    "    accuracies = {\n",
    "        'sentence': data['sentence'][accuracy_type],\n",
    "        'wordplay': data['wordplay'][accuracy_type],\n",
    "        'all': data['all'][accuracy_type]\n",
    "    }\n",
    "    return accuracies"
   ]
  },
  {
   "cell_type": "code",
   "execution_count": 5,
   "metadata": {},
   "outputs": [],
   "source": [
    "def load_models(models, accuracy_type=None, skip_spec=False):\n",
    "    models_dict = {}\n",
    "    for model_dir in models:\n",
    "        models_dict[model_dir] = {}\n",
    "        files_list = get_files_in_dir(model_dir)\n",
    "        for file in files_list:\n",
    "            results = load_file_results(file, accuracy_type)\n",
    "            file_dir = model_dir\n",
    "            if \"spec_\" in file:\n",
    "                file_dir += \"_spec\"\n",
    "                if skip_spec:\n",
    "                    continue\n",
    "            for word in [\"baseline\", \"same_incorrect_answers\"]:\n",
    "                if word in file:\n",
    "                    models_dict[file_dir][word] = results\n",
    "    return models_dict"
   ]
  },
  {
   "cell_type": "code",
   "execution_count": 6,
   "metadata": {},
   "outputs": [],
   "source": [
    "import numpy as np\n",
    "import matplotlib.pyplot as plt\n",
    "\n",
    "def plot_accuracies(models, accuracy_group='sentence', accuracy_type=None, skip_spec=False):\n",
    "    \"\"\"\n",
    "    Plots the accuracies as a bar plot.\n",
    "    \n",
    "    Parameters:\n",
    "    results (dict): A dictionary with filenames as keys and extracted accuracies as values.\n",
    "    accuracy_group (str): The type of accuracy to plot ('sentence' or 'wordplay').\n",
    "    accuracy_type (str): The type of accuracy to plot ('over_all accuracy' or 'original_accuracy'...).\n",
    "    \"\"\"\n",
    "    results = load_models(models, accuracy_type, skip_spec)\n",
    "    models = list(results.keys())\n",
    "    \n",
    "    x = np.arange(len(models))  # the label locations\n",
    "    width = 0.15  # the width of the bars\n",
    "\n",
    "    fig, ax = plt.subplots(figsize=(12, 7))\n",
    "    plt.grid()\n",
    "    ax.set_ylim([0, 1])\n",
    "    \n",
    "    for i, word in enumerate([\"baseline\", \"same_incorrect_answers\"]):\n",
    "        col = []\n",
    "        for model in models:\n",
    "            if word in results[model]:\n",
    "                col.append(results[model][word][accuracy_group])\n",
    "            else:\n",
    "                col.append(0)\n",
    "        ax.bar(x + (i-2.5)*width, col, width, label=word)\n",
    "\n",
    "    ax.set_xlabel('Models')\n",
    "    accuracy_text = f'{accuracy_group.capitalize()} {accuracy_type.capitalize() if accuracy_type is not None else \"Accuracies\"}'\n",
    "    ax.set_ylabel(accuracy_text)\n",
    "    ax.set_title(f'{accuracy_text} by Model')\n",
    "    ax.set_xticks(x)\n",
    "    ax.set_xticklabels(models, rotation=45, ha='right')\n",
    "    ax.legend()\n",
    "\n",
    "    fig.tight_layout()\n",
    "    plt.show()\n"
   ]
  },
  {
   "cell_type": "code",
   "execution_count": 7,
   "metadata": {},
   "outputs": [
    {
     "ename": "UnicodeDecodeError",
     "evalue": "'utf-8' codec can't decode byte 0x80 in position 3131: invalid start byte",
     "output_type": "error",
     "traceback": [
      "\u001b[0;31m---------------------------------------------------------------------------\u001b[0m",
      "\u001b[0;31mUnicodeDecodeError\u001b[0m                        Traceback (most recent call last)",
      "Cell \u001b[0;32mIn[7], line 14\u001b[0m\n\u001b[1;32m     10\u001b[0m accuracy_type \u001b[38;5;241m=\u001b[39m \u001b[38;5;124m'\u001b[39m\u001b[38;5;124mcontext_accuracy\u001b[39m\u001b[38;5;124m'\u001b[39m\n\u001b[1;32m     12\u001b[0m \u001b[38;5;66;03m# plot_accuracies(models, accuracy_group=\"wordplay\", accuracy_type=accuracy_type)\u001b[39;00m\n\u001b[1;32m     13\u001b[0m \u001b[38;5;66;03m# plot_accuracies(models, accuracy_group=\"sentence\", accuracy_type=accuracy_type)\u001b[39;00m\n\u001b[0;32m---> 14\u001b[0m \u001b[43mplot_accuracies\u001b[49m\u001b[43m(\u001b[49m\u001b[43mmodels\u001b[49m\u001b[43m,\u001b[49m\u001b[43m \u001b[49m\u001b[43maccuracy_group\u001b[49m\u001b[38;5;241;43m=\u001b[39;49m\u001b[38;5;124;43m\"\u001b[39;49m\u001b[38;5;124;43mall\u001b[39;49m\u001b[38;5;124;43m\"\u001b[39;49m\u001b[43m,\u001b[49m\u001b[43m \u001b[49m\u001b[43maccuracy_type\u001b[49m\u001b[38;5;241;43m=\u001b[39;49m\u001b[38;5;124;43m'\u001b[39;49m\u001b[38;5;124;43mover_all accuracy\u001b[39;49m\u001b[38;5;124;43m'\u001b[39;49m\u001b[43m)\u001b[49m\n\u001b[1;32m     15\u001b[0m \u001b[38;5;66;03m# plot_accuracies(models, accuracy_group=\"all\", accuracy_type='context_accuracy')\u001b[39;00m\n\u001b[1;32m     16\u001b[0m \u001b[38;5;66;03m# plot_accuracies(models, accuracy_group=\"wordplay\", accuracy_type='over_all accuracy', skip_spec=True)\u001b[39;00m\n\u001b[1;32m     17\u001b[0m \u001b[38;5;66;03m# plot_accuracies(models, accuracy_group=\"sentence\", accuracy_type='over_all accuracy', skip_spec=False)\u001b[39;00m\n",
      "Cell \u001b[0;32mIn[6], line 13\u001b[0m, in \u001b[0;36mplot_accuracies\u001b[0;34m(models, accuracy_group, accuracy_type, skip_spec)\u001b[0m\n\u001b[1;32m      4\u001b[0m \u001b[38;5;28;01mdef\u001b[39;00m \u001b[38;5;21mplot_accuracies\u001b[39m(models, accuracy_group\u001b[38;5;241m=\u001b[39m\u001b[38;5;124m'\u001b[39m\u001b[38;5;124msentence\u001b[39m\u001b[38;5;124m'\u001b[39m, accuracy_type\u001b[38;5;241m=\u001b[39m\u001b[38;5;28;01mNone\u001b[39;00m, skip_spec\u001b[38;5;241m=\u001b[39m\u001b[38;5;28;01mFalse\u001b[39;00m):\n\u001b[1;32m      5\u001b[0m \u001b[38;5;250m    \u001b[39m\u001b[38;5;124;03m\"\"\"\u001b[39;00m\n\u001b[1;32m      6\u001b[0m \u001b[38;5;124;03m    Plots the accuracies as a bar plot.\u001b[39;00m\n\u001b[1;32m      7\u001b[0m \u001b[38;5;124;03m    \u001b[39;00m\n\u001b[0;32m   (...)\u001b[0m\n\u001b[1;32m     11\u001b[0m \u001b[38;5;124;03m    accuracy_type (str): The type of accuracy to plot ('over_all accuracy' or 'original_accuracy'...).\u001b[39;00m\n\u001b[1;32m     12\u001b[0m \u001b[38;5;124;03m    \"\"\"\u001b[39;00m\n\u001b[0;32m---> 13\u001b[0m     results \u001b[38;5;241m=\u001b[39m \u001b[43mload_models\u001b[49m\u001b[43m(\u001b[49m\u001b[43mmodels\u001b[49m\u001b[43m,\u001b[49m\u001b[43m \u001b[49m\u001b[43maccuracy_type\u001b[49m\u001b[43m,\u001b[49m\u001b[43m \u001b[49m\u001b[43mskip_spec\u001b[49m\u001b[43m)\u001b[49m\n\u001b[1;32m     14\u001b[0m     models \u001b[38;5;241m=\u001b[39m \u001b[38;5;28mlist\u001b[39m(results\u001b[38;5;241m.\u001b[39mkeys())\n\u001b[1;32m     16\u001b[0m     x \u001b[38;5;241m=\u001b[39m np\u001b[38;5;241m.\u001b[39marange(\u001b[38;5;28mlen\u001b[39m(models))  \u001b[38;5;66;03m# the label locations\u001b[39;00m\n",
      "Cell \u001b[0;32mIn[5], line 7\u001b[0m, in \u001b[0;36mload_models\u001b[0;34m(models, accuracy_type, skip_spec)\u001b[0m\n\u001b[1;32m      5\u001b[0m files_list \u001b[38;5;241m=\u001b[39m get_files_in_dir(model_dir)\n\u001b[1;32m      6\u001b[0m \u001b[38;5;28;01mfor\u001b[39;00m file \u001b[38;5;129;01min\u001b[39;00m files_list:\n\u001b[0;32m----> 7\u001b[0m     results \u001b[38;5;241m=\u001b[39m \u001b[43mload_file_results\u001b[49m\u001b[43m(\u001b[49m\u001b[43mfile\u001b[49m\u001b[43m,\u001b[49m\u001b[43m \u001b[49m\u001b[43maccuracy_type\u001b[49m\u001b[43m)\u001b[49m\n\u001b[1;32m      8\u001b[0m     file_dir \u001b[38;5;241m=\u001b[39m model_dir\n\u001b[1;32m      9\u001b[0m     \u001b[38;5;28;01mif\u001b[39;00m \u001b[38;5;124m\"\u001b[39m\u001b[38;5;124mspec_\u001b[39m\u001b[38;5;124m\"\u001b[39m \u001b[38;5;129;01min\u001b[39;00m file:\n",
      "Cell \u001b[0;32mIn[4], line 5\u001b[0m, in \u001b[0;36mload_file_results\u001b[0;34m(file_path, accuracy_type)\u001b[0m\n\u001b[1;32m      3\u001b[0m     accuracy_type \u001b[38;5;241m=\u001b[39m \u001b[38;5;124m'\u001b[39m\u001b[38;5;124mover_all accuracy\u001b[39m\u001b[38;5;124m'\u001b[39m\n\u001b[1;32m      4\u001b[0m \u001b[38;5;28;01mwith\u001b[39;00m \u001b[38;5;28mopen\u001b[39m(file_path, \u001b[38;5;124m'\u001b[39m\u001b[38;5;124mr\u001b[39m\u001b[38;5;124m'\u001b[39m) \u001b[38;5;28;01mas\u001b[39;00m file:\n\u001b[0;32m----> 5\u001b[0m     content \u001b[38;5;241m=\u001b[39m \u001b[43mfile\u001b[49m\u001b[38;5;241;43m.\u001b[39;49m\u001b[43mread\u001b[49m\u001b[43m(\u001b[49m\u001b[43m)\u001b[49m\n\u001b[1;32m      7\u001b[0m \u001b[38;5;66;03m# Find the start of the JSON content\u001b[39;00m\n\u001b[1;32m      8\u001b[0m json_start \u001b[38;5;241m=\u001b[39m content\u001b[38;5;241m.\u001b[39mfind(\u001b[38;5;124m\"\u001b[39m\u001b[38;5;124m{\u001b[39m\u001b[38;5;124m\"\u001b[39m)\n",
      "File \u001b[0;32m<frozen codecs>:322\u001b[0m, in \u001b[0;36mdecode\u001b[0;34m(self, input, final)\u001b[0m\n",
      "\u001b[0;31mUnicodeDecodeError\u001b[0m: 'utf-8' codec can't decode byte 0x80 in position 3131: invalid start byte"
     ]
    }
   ],
   "source": [
    "models = [\n",
    "    \"llama-instruct\",\n",
    "    \"mistral-instruct\",\n",
    "    \"phi-3-mini-128k-instruct\"\n",
    "]\n",
    "\n",
    "accuracy_type = 'over_all accuracy'\n",
    "accuracy_type = 'original_accuracy'\n",
    "accuracy_type = 'semantic_accuracy'\n",
    "accuracy_type = 'context_accuracy'\n",
    "\n",
    "# plot_accuracies(models, accuracy_group=\"wordplay\", accuracy_type=accuracy_type)\n",
    "# plot_accuracies(models, accuracy_group=\"sentence\", accuracy_type=accuracy_type)\n",
    "plot_accuracies(models, accuracy_group=\"all\", accuracy_type='over_all accuracy')\n",
    "# plot_accuracies(models, accuracy_group=\"all\", accuracy_type='context_accuracy')\n",
    "# plot_accuracies(models, accuracy_group=\"wordplay\", accuracy_type='over_all accuracy', skip_spec=True)\n",
    "# plot_accuracies(models, accuracy_group=\"sentence\", accuracy_type='over_all accuracy', skip_spec=False)"
   ]
  },
  {
   "cell_type": "code",
   "execution_count": null,
   "metadata": {},
   "outputs": [],
   "source": []
  },
  {
   "cell_type": "code",
   "execution_count": null,
   "metadata": {},
   "outputs": [],
   "source": []
  }
 ],
 "metadata": {
  "kernelspec": {
   "display_name": "tar",
   "language": "python",
   "name": "python3"
  },
  "language_info": {
   "codemirror_mode": {
    "name": "ipython",
    "version": 3
   },
   "file_extension": ".py",
   "mimetype": "text/x-python",
   "name": "python",
   "nbconvert_exporter": "python",
   "pygments_lexer": "ipython3",
   "version": "3.12.1"
  }
 },
 "nbformat": 4,
 "nbformat_minor": 2
}
